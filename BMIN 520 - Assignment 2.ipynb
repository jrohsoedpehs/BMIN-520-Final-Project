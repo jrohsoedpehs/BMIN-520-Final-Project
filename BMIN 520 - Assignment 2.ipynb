{
 "cells": [
  {
   "cell_type": "markdown",
   "metadata": {},
   "source": [
    "# Assignment 2 - Logic\n",
    "- Course: BMIN 520 (AI 1: Fundamentals of Artificial Intelligence)\n",
    "- Institution: University of Pennsylvania\n",
    "- Course Director: Ryan Urbanowicz, PhD\n",
    "- Due date: 2/17/20"
   ]
  },
  {
   "cell_type": "markdown",
   "metadata": {},
   "source": [
    "## General Instructions: \n",
    "Assignments will be made available as Jupyter Notebook files (.ipynb) as well as in .html format for easy viewing prior to installation of Anaconda.\n",
    "\n",
    "- Edit name of this jupyter notebook so that your first and last name appears at the end.\n",
    "- Read through whole assignment.\n",
    "- Complete each task (nothing needs to be filled in for these, however the tasks will need to be completed so that you can complete the later problems.\n",
    "- Complete each problem by filling in respective notebook 'cell', i.e., either...\n",
    "    - Writing text (in markdown) (change the cell to markdown by selecting the cell and typing 'm')\n",
    "    - Enter in Python code to the respective cell and run code to ensure that the desired output is obtained. \n",
    "- After editing this file and running all code so that desired outputs are visible, save the .ipynb file and (under File), download file (as HTML). Save and submit both files via Canvas. "
   ]
  },
  {
   "cell_type": "markdown",
   "metadata": {},
   "source": [
    "---\n",
    "## Task 1 (Lecture  4):\n",
    "- Read Chapter 2, 'Knowledge Representation and Inference' in 'The Essence of Artificial Intelligence' - Alison Cawsey (pages 9-39)"
   ]
  },
  {
   "cell_type": "markdown",
   "metadata": {},
   "source": [
    "---\n",
    "## Task 2 (Lecture  4):\n",
    "- If you haven't already, start your litterature search for the mid-term, journal-club-style presentations.\n",
    "- Note that these mid-term summaries of 3-5 papers are due 2/24."
   ]
  },
  {
   "cell_type": "markdown",
   "metadata": {},
   "source": [
    "---\n",
    "## Task 3 (Lecture  4):\n",
    "- Inspect this cell (by double clicking it to edit the markdown) to observe how key logic symbols can be written within markdown (this will be needed to complete the problems below)\n",
    "- See the following link for reference information on using Markdown to do logic: \n",
    "    - http://davidagler.com/teaching/logic/handouts/supplemental_material/MarkdownForSymbolicLogic.html\n",
    "\n",
    "#### Propositional Logic Symbols\n",
    "- $\\neg$ (Negation)\n",
    "- $\\rightarrow$ (Implication)\n",
    "- $\\leftrightarrow$ (Equivalence/Biconditional)\n",
    "- $\\vee$ (Disjunction)\n",
    "- $\\wedge$ (Conjunction)\n",
    "- $\\models$ (Entailment)\n",
    "\n",
    "#### Predicate Logic Symbols\n",
    "- $\\forall$ (Universal Quantifier)\n",
    "- $\\exists$ (Existential Quantifier)\n",
    "- $\\in$ (\"in the set\", used to identify the domain for a quantifier)\n"
   ]
  },
  {
   "cell_type": "markdown",
   "metadata": {},
   "source": [
    "---\n",
    "## Problem 1 (Propositional Logic): *2 points (.25 each)*\n",
    "- Translate the following statements from natural text into propositions using appropriate connectives.\n",
    "    - Use parenthesis when necessary\n",
    "- Example: \"If Finn is healthy then he does not need surgery\"\n",
    "    - p $\\rightarrow$ $\\neg$ s\n",
    "        - (where p = \"Finn is healthy\")\n",
    "        - (where s = \"Finn does not need surgery\")"
   ]
  },
  {
   "cell_type": "markdown",
   "metadata": {},
   "source": [
    "1. \"John has asthma\"\n",
    "2. \"The patient wasn’t infected with the chickenpox virus\"\n",
    "3. \"Increased leucocyte count causes much faster absorption of bacteria by phagocytosis\"\n",
    "4. \"Cervical cancer is the only human organ cancer which if detected at an early stage can be 100% cured\"\n",
    "5. \"Finn has a family history of hypertension, he does not exercise, and he has not been tested for diabetes\" \n",
    "6. \"Crystal will be admitted to the ICU if and only if her her breathing is shallow or, instead, if she is unconcious and has low blood pressure\"\n",
    "7. \"If SNP1 = 0 and SNP2 = 2, or alternatively, if SNP3 is not = 0 and SNP4 = 1, then the patient has a high risk for breast cancer\"\n",
    "8. \"Max will be admitted unless he is a danger to others\""
   ]
  },
  {
   "cell_type": "markdown",
   "metadata": {},
   "source": [
    "#### Add translations here"
   ]
  },
  {
   "cell_type": "markdown",
   "metadata": {},
   "source": [
    "---\n",
    "## Problem 2 (Propositional Logic): *1 point*\n",
    "- Given the following logical expression, fill in the given truth table in order to examine the differt interptetations. \n",
    "    - $\\neg$ p $\\rightarrow$ (q $\\vee$ d)\n",
    "    \n",
    "- Is this expression a tautology?, Why?"
   ]
  },
  {
   "cell_type": "markdown",
   "metadata": {},
   "source": [
    "#### Truth Table (fill in the x's with T or F)\n",
    "|p | q | d || $\\neg$ p || q $\\vee$ d || $\\neg$ p $\\rightarrow$ (q $\\vee$ d)|\n",
    "|-|-|-|-|-|-|\n",
    "|T|T|T|x|x|x|\n",
    "|T|T|F|x|x|x|\n",
    "|T|F|T|x|x|x|\n",
    "|T|F|F|x|x|x|\n",
    "|F|T|T|x|x|x|\n",
    "|F|T|F|x|x|x|\n",
    "|F|F|T|x|x|x|\n",
    "|F|F|F|x|x|x|"
   ]
  },
  {
   "cell_type": "markdown",
   "metadata": {},
   "source": [
    "#### Here: Answer to \"Is this expression a tautology?, Why?\""
   ]
  },
  {
   "cell_type": "markdown",
   "metadata": {},
   "source": [
    "---\n",
    "## Problem 3 (Propositional Logic): *1 points*\n",
    "- Below are two propositional expressions. \n",
    "    - (p $\\wedge$ q) $\\rightarrow$ r\n",
    "    - p $\\rightarrow$ (q $\\rightarrow$ r)\n",
    "- A consecutive set of connective equivalence laws have been applied to prove that the two expressions are equivalent. For each step, identify the equivalence law that was applied (i.e. by replacing the x's in the table with text).\n",
    "    - (p $\\wedge$ q) $\\rightarrow$ r   $\\leftrightarrow$  $\\neg$(p $\\wedge$ q) $\\rightarrow$ r\n",
    "\n",
    "#### Fill in the table below\n",
    "|.|.|.|Equivalence Law|\n",
    "|-|-|-|-|\n",
    "|(p $\\wedge$ q) $\\rightarrow$ r|$\\leftrightarrow$|$\\neg$(p $\\wedge$ q) $\\vee$ r|x|\n",
    "|.|$\\leftrightarrow$|($\\neg$p $\\vee$ $\\neg$q) $\\vee$ r|x|\n",
    "|.|$\\leftrightarrow$|$\\neg$p $\\vee$ ($\\neg$q $\\vee$ r)|x|\n",
    "|.|$\\leftrightarrow$|$\\neg$p $\\vee$ (q $\\rightarrow$ r)|x|\n",
    "|.|$\\leftrightarrow$|p $\\rightarrow$ (q $\\rightarrow$ r)|x|"
   ]
  },
  {
   "cell_type": "markdown",
   "metadata": {},
   "source": [
    "---\n",
    "## Problem 4 (Propositional Logic): *2 points*\n",
    "- Using a truth table, determine whether the premises below entail the conclusion.\n",
    "    - Add the necessary non-atomic propositions, premises, and conclusion at the top of the table\n",
    "    - Fill in the T/F values for each\n",
    "    - Determine if the conclusion is entailed\n",
    "- Explain your the reasoning behind this determination.\n",
    "#### Argument phrased in natural language\n",
    "\"If Peter visited the doctor, then either he has the flu or he is sick.  If Peter has the flu, then he is sick. Lets confirm that if peter visited the doctor, he is sick.\"\n",
    "#### Premises\n",
    "- d $\\rightarrow$ (f $\\vee$ s)\n",
    "- f $\\rightarrow$ s\n",
    "#### Conclusion\n",
    "- d $\\rightarrow$ s\n",
    "\n",
    "#### Truth Table (fill in all x's in the table - including the header)\n",
    "|d | f | s || x || x || x  || x |\n",
    "|-|-|-|-|-|-|-|\n",
    "|T|T|T|x|x|x|x|\n",
    "|T|T|F|x|x|x|x|\n",
    "|T|F|T|x|x|x|x|\n",
    "|T|F|F|x|x|x|x|\n",
    "|F|T|T|x|x|x|x|\n",
    "|F|T|F|x|x|x|x|\n",
    "|F|F|T|x|x|x|x|\n",
    "|F|F|F|x|x|x|x|"
   ]
  },
  {
   "cell_type": "markdown",
   "metadata": {},
   "source": [
    "#### Here: Answer to whether premises entail the conclusion with reasoning explained."
   ]
  },
  {
   "cell_type": "markdown",
   "metadata": {},
   "source": [
    "---\n",
    "## Problem 5 (First Order Predicate Logic): *1 point (.25 each)*\n",
    "- Translate the following statements from natural text into FOL expressions using appropriate connectives and quantifiers.\n",
    "    - Use parenthesis when necessary\n",
    "- Example: \"Every patient is either health or sick\"\n",
    "    - $\\forall$x (healthy(x) $\\vee$ sick(x))\n",
    "        - (where x = a variable denoting a person/patient)\n",
    "        - (where healthy(x) = \"is healthy\")\n",
    "        - (where sick(x) = \"is sick\")"
   ]
  },
  {
   "cell_type": "markdown",
   "metadata": {},
   "source": [
    "1. \"No one is deceased and everyone alive\"\n",
    "2. \"Every patient has a primary care physician\"\n",
    "3. \"Some doctors cure everyone they treat\"\n",
    "4. \"Steve, Mark, Jane, and Sue all either are certified to treat patients or to teach\""
   ]
  },
  {
   "cell_type": "markdown",
   "metadata": {},
   "source": [
    "#### Add translations here"
   ]
  },
  {
   "cell_type": "markdown",
   "metadata": {},
   "source": [
    "---\n",
    "## Problem 6 (First Order Predicate Logic): *1 point*\n",
    "- Complete forward chaining on the following FOL knowledge base in order to prove the query.\n",
    "- The given implications are derived from guidelines for determining when a patient should have a diabetes screening.\n",
    "- \"A BMI above 25 is considered to be high. Critical family history risk factors of diabetes include diabetes, heart disease, and gestational diabetes in women. Individuals are considered to have a sedentary lifestyle if they have a desk job and don't exercise regularly. Individuals are said to have a desk job if they work indoors and work at a computer. Men with a high BIM have a high risk of heart disease. A diabetes screening is recommended if a patient has a high BMI, all family history risk factors, a sedentary lifestyle and if it's been at least a year since their last screening.\"\n",
    "- Show the facts added during each cycle of the forward chaining algorithm that prove the target query."
   ]
  },
  {
   "cell_type": "markdown",
   "metadata": {},
   "source": [
    "#### Target query\n",
    "-  DiabetesScreen(Finn)\n",
    "\n",
    "#### Implications\n",
    "- $\\forall$x BMIabove25(x) $\\rightarrow$ highBMI(x)\n",
    "- $\\forall$x diabetesHist(x) $\\rightarrow$ famHistory(x)\n",
    "- $\\forall$x heartDiseaseHist(x) $\\rightarrow$ famHistory(x)\n",
    "- $\\forall$x gestationalDiabetes(x) $\\wedge$ female(x) $\\rightarrow$ famHistory(x)\n",
    "- $\\forall$x deskJob(x) $\\wedge$ noExercise(x) $\\rightarrow$ sedentary(x)\n",
    "- $\\forall$x male(x) $\\wedge$ highBMI(x) $\\rightarrow$ riskHeartDisease(x)\n",
    "- $\\forall$x workIndoors(x) $\\wedge$ worksAtComputer(x) $\\rightarrow$ deskJob(x)\n",
    "- $\\forall$x ((highBMI(x) $\\wedge$ famHistory(x) $\\wedge$ sedentary(x) $\\wedge$ yearSinceScreen(x)) $\\rightarrow$ DiabetesScreen(x))\n",
    "\n",
    "#### Initial Fact Base \n",
    "- yearSinceScreen(Finn)\n",
    "- male(Finn)\n",
    "- BMIabove25(Finn)\n",
    "- heartDiseaseHist(Finn)\n",
    "- workIndoors(Finn)\n",
    "- worksAtComputer(Finn)\n",
    "- noExercise(Finn)"
   ]
  },
  {
   "cell_type": "markdown",
   "metadata": {},
   "source": [
    "### Fill in facts determined by each forward chaining cycle here.\n",
    "#### Forward Chaining: Cycle 1\n",
    "\n",
    "#### Forward Chaining: Cycle 2\n",
    "\n",
    "#### Forward Chaining: Cycle 3\n"
   ]
  },
  {
   "cell_type": "markdown",
   "metadata": {},
   "source": [
    "---\n",
    "## Problem 7 (First Order Predicate Logic): *1 point (.25 each)*\n",
    "- Identify which variables are free vs bound in the following formulas.\n",
    "    - Keep in mind that each occurence of each variable should be considered."
   ]
  },
  {
   "cell_type": "markdown",
   "metadata": {},
   "source": [
    "1. $\\forall$x ($\\forall$y P(x,y,z) $\\rightarrow$ Q(x,y))\n",
    "2. $\\forall$y$\\exists$z (P(x,y,z) $\\rightarrow$ $\\exists$z Q(z,x))\n",
    "3. $\\exists$x$\\forall$y (P(x) $\\vee$ Q(x,y)) $\\rightarrow$ $\\forall$y Q(x,y)\n",
    "4. $\\forall$x (R(x,y) $\\wedge$ R(y,z) $\\rightarrow$ $\\exists$z (S(x,z) $\\wedge$ R(z,y)))"
   ]
  },
  {
   "cell_type": "markdown",
   "metadata": {},
   "source": [
    "---\n",
    "## Problem 8 (First Order Predicate Logic): *1 point*\n",
    "- Write a paragraph explaining the differences between forward and backward chaining.\n",
    "\n"
   ]
  },
  {
   "cell_type": "markdown",
   "metadata": {},
   "source": [
    "#### Write answer here."
   ]
  },
  {
   "cell_type": "markdown",
   "metadata": {},
   "source": [
    "---\n",
    "## Extra Credit:\n",
    "At any time during this course, email ryanurb@upenn.edu if you have identified or developed new/improved course materials\n",
    "- Identification of relevant clear publications (reviews or research)\n",
    "- Development or identification of clearer figures, slides, code examples, etc\n",
    "\n",
    "Extra credit will be assigned at the end of the term based on the quality and quantity of any materials submitted by students.\n",
    "The spirit of this extra credit is to improve the quality of this course now and in the future, as well as to encourage students to take the time to learn through teaching by identifying or developing new teaching resources.\n"
   ]
  },
  {
   "cell_type": "code",
   "execution_count": null,
   "metadata": {},
   "outputs": [],
   "source": []
  }
 ],
 "metadata": {
  "kernelspec": {
   "display_name": "Python 3",
   "language": "python",
   "name": "python3"
  },
  "language_info": {
   "codemirror_mode": {
    "name": "ipython",
    "version": 3
   },
   "file_extension": ".py",
   "mimetype": "text/x-python",
   "name": "python",
   "nbconvert_exporter": "python",
   "pygments_lexer": "ipython3",
   "version": "3.5.6"
  }
 },
 "nbformat": 4,
 "nbformat_minor": 2
}
