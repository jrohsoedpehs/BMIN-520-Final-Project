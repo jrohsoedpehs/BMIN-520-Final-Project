{
 "cells": [
  {
   "cell_type": "markdown",
   "metadata": {},
   "source": [
    "# Assignment 1 - Python Basics +\n",
    "- Course: BMIN 520 (AI 1: Fundamentals of Artificial Intelligence)\n",
    "- Institution: University of Pennsylvania\n",
    "- Course Director: Ryan Urbanowicz, PhD\n",
    "- Due date: 1/27/20"
   ]
  },
  {
   "cell_type": "markdown",
   "metadata": {},
   "source": [
    "## General Instructions: \n",
    "Assignments will be made available as Jupyter Notebook files (.ipynb) as well as in .html format for easy viewing prior to installation of Anaconda.\n",
    "\n",
    "- Edit name of this jupyter notebook so that your first and last name appears at the end.\n",
    "- Read through whole assignment.\n",
    "- Complete each task (nothing needs to be filled in for these, however the tasks will need to be completed so that you can complete the later problems.\n",
    "- Complete each problem by filling in respective notebook 'cell', i.e., either...\n",
    "    - Writing text (in markdown) (change the cell to markdown by selecting the cell and typing 'm')\n",
    "    - Enter in Python code to the respective cell and run code to ensure that the desired output is obtained. \n",
    "- After editing this file and running all code so that desired outputs are visible, save the .ipynb file and (under File), download file (as HTML). Save and submit both files via Canvas. "
   ]
  },
  {
   "cell_type": "markdown",
   "metadata": {},
   "source": [
    "---\n",
    "## Task 1 (Lecture 1): \n",
    "- Read through course syllabus.\n",
    "- Read Chapter 1, \"Introduction\" in 'The Essence of Artificial Intelligence' - Alison Cawsey (pages 1-8)"
   ]
  },
  {
   "cell_type": "markdown",
   "metadata": {},
   "source": [
    "---\n",
    "## Task 2 (Lecture 1): \n",
    "Install Anaconda with Python 3.7 on your computer.  (Some troubleshooting may be required)\n",
    "##### Note: Anaconda will include Python 3.7, Jupyter Notebook, and useful Python packages for data science and machine learning.\n",
    "\n",
    "#### Use the following links (also in lecture 1 slides) and Google as necessary to troubleshoot:\n",
    "\n",
    "- Link: Introduction to Anaconda (Reading & Installation Instructions)\n",
    "https://www.mrdbourke.com/get-your-computer-ready-for-machine-learning-using-anaconda-miniconda-and-conda/\n",
    "\n",
    "- Link: Guided tour of installing and testing Anaconda\n",
    "https://whimsical.com/BD751gt65nKjAD5i1CNEXU\n",
    "\n",
    "- Link: Supplemental Guide to Installing Python and Packages\n",
    "https://github.com/ageron/handson-ml"
   ]
  },
  {
   "cell_type": "markdown",
   "metadata": {},
   "source": [
    "---\n",
    "## Task 3 (Lecture 1): \n",
    "Read through relevant content at following link (If you are not familiar with Command Line Interfaces)\n",
    "\n",
    "- Link Command Line Tutorial https://www.davidbaumgold.com/tutorials/command-line/"
   ]
  },
  {
   "cell_type": "markdown",
   "metadata": {},
   "source": [
    "---\n",
    "## Task 4 (Lecture 1):\n",
    "Read through Jupyter Notebook tutorial at following link:\n",
    "\n",
    "- Link: Jupyter Notebook Tutorial https://www.dataquest.io/blog/jupyter-notebook-tutorial/\n",
    "\n",
    "Load up and try out Jupyter Notebook on your own computer to confirm that Anaconda and Python have been installed correctly. See lecture 1 slides for additional tips."
   ]
  },
  {
   "cell_type": "markdown",
   "metadata": {},
   "source": [
    "---\n",
    "## Task 5 (Lecture 1):\n",
    "Read through Tutorial on writing in markdown in Jupyter Notebook at the following link:\n",
    "\n",
    "- Link: Markdown Tutorial (in Jupyter Notebook) https://www.datacamp.com/community/tutorials/markdown-in-jupyter-notebook"
   ]
  },
  {
   "cell_type": "markdown",
   "metadata": {},
   "source": [
    "---\n",
    "## Task 6 (Lecture 1 & 2):\n",
    "Review Lecture 2 Slides on Python coding. As needed, read through supplemental materials links on Python coding. \n",
    "\n",
    "- Link: Python Self-Guided ‘Basics’ https://www.learnpython.org/\n",
    "\n",
    "- Link: Python Coding Video (Basics) by Corey Schafer https://www.youtube.com/channel/UCCezIgC97PvUuR4_gbFUs5g\n",
    "\n",
    "The links below are completely optional.  Available for those interested in learning more about some common Python packages used in data science and machine learning. \n",
    "\n",
    "- Link: Pandas (Data Science) https://www.learndatasci.com/tutorials/python-pandas-tutorial-complete-introduction-for-beginners/\n",
    "\n",
    "- Link: Scikit-Learn (Machine Learning) https://www.dataquest.io/blog/sci-kit-learn-tutorial/"
   ]
  },
  {
   "cell_type": "markdown",
   "metadata": {},
   "source": [
    "---\n",
    "## Task 7 (Lecture 2):\n",
    "Review Lecture 2 slides on GitHub. Follow the instructions at the link below in (Step 0) below to install git and create a GitHub account. Read through the remaining steps if you are not familiar with Git or GitHub.\n",
    "- Link: An Introduction to Git and GitHub for Beginners https://product.hubspot.com/blog/git-and-github-tutorial-for-beginners"
   ]
  },
  {
   "cell_type": "markdown",
   "metadata": {},
   "source": [
    "---\n",
    "## Problem 1 (Lecture 2): *1 point*\n",
    "- Create a new GitHub Repository on your GitHub Page named 'BMIN 520 Final Project'\n",
    "- Paste link to this respository below:"
   ]
  },
  {
   "cell_type": "markdown",
   "metadata": {},
   "source": [
    "#### Paste link here"
   ]
  },
  {
   "cell_type": "markdown",
   "metadata": {},
   "source": [
    "---\n",
    "## Problem 2 (Lecture 2): *1 point*\n",
    "- Below, write and run Python code to get the Python version you are using.\n",
    "This objective has not been explicitly covered in class, thus it is a simple exercise in turning to google to get coding help."
   ]
  },
  {
   "cell_type": "code",
   "execution_count": 1,
   "metadata": {},
   "outputs": [],
   "source": [
    "#Enter code here"
   ]
  },
  {
   "cell_type": "markdown",
   "metadata": {},
   "source": [
    "---\n",
    "## Problem 3 (Lecture 2): *2 points*\n",
    "- Below, add and run Python code that does the following (using only the 'myText' object)...\n",
    "- Print the object 'myText'\n",
    "- Print the index to the letter 'W'\n",
    "- Print only the word 'Hello' in myText\n",
    "- Print myText in reverse order (i.e. yielding 'dlroW olleH')"
   ]
  },
  {
   "cell_type": "code",
   "execution_count": 2,
   "metadata": {},
   "outputs": [],
   "source": [
    "#Edit code here\n",
    "myText = \"Hello World!\""
   ]
  },
  {
   "cell_type": "markdown",
   "metadata": {},
   "source": [
    "---\n",
    "## Problem 4 (Lecture 2): *2 points*\n",
    "- Below, write and run Python code that does the following...\n",
    "- Make a list object (with some unique name) that includes the values 4,7,8,10,37\n",
    "- Make a 'for loop' that multiplies each item in the list by 3, and then adds 2, and prints the result each time"
   ]
  },
  {
   "cell_type": "code",
   "execution_count": 3,
   "metadata": {},
   "outputs": [],
   "source": [
    "#Enter code here"
   ]
  },
  {
   "cell_type": "markdown",
   "metadata": {},
   "source": [
    "---\n",
    "## Problem 5 (Lecture 2): *2 points*\n",
    "- Below, write and run a Python function that does the following...\n",
    "- Make a function called 'sum_three' that takes three arguments\n",
    "- When called, this function should return the sum of three given integers. However, if two values are equal, the sum will be zero.\n",
    "- Print the output of this function in the following four scenarios (2,1,2), (3,2,2), (2,2,2), (1,2,3)"
   ]
  },
  {
   "cell_type": "code",
   "execution_count": 4,
   "metadata": {},
   "outputs": [],
   "source": [
    "#Enter code here"
   ]
  },
  {
   "cell_type": "markdown",
   "metadata": {},
   "source": [
    "---\n",
    "## Problem 6 (Lecture 1 and 2): *2 points*\n",
    "List the skills and knowledge required to successfully do the following everyday tasks, separately: \n",
    "- Ordering a pizza (at a restaurant)\n",
    "- Crossing the road (on foot)\n",
    "\n",
    "The purpose of this exercise is to break a task down into it's simplest components and develop an appreciation for what does into getting a machine to successfully complete a given task. Aim to give a list of approximately 8-15 items for each.  Also, use this as an opportunity to become more familiar with Markdown (give items as a numbered list)."
   ]
  },
  {
   "cell_type": "markdown",
   "metadata": {},
   "source": [
    "#### Paste text here\n",
    "\n",
    "- Ordering a pizza (at a restaurant)\n",
    "  \n",
    "- Crossing the road (on foot)\n"
   ]
  },
  {
   "cell_type": "markdown",
   "metadata": {},
   "source": [
    "---\n",
    "## Extra Credit:\n",
    "At any time during this course, email ryanurb@upenn.edu if you have identified or developed new/improved course materials\n",
    "- Identification of relevant clear publications (reviews or research)\n",
    "- Development or identification of clearer figures, slides, code examples, etc\n",
    "\n",
    "Extra credit will be assigned at the end of the term based on the quality and quantity of any materials submitted by students.\n",
    "The spirit of this extra credit is to improve the quality of this course now and in the future, as well as to encourage students to take the time to learn through teaching by identifying or developing new teaching resources.\n"
   ]
  },
  {
   "cell_type": "code",
   "execution_count": null,
   "metadata": {},
   "outputs": [],
   "source": []
  }
 ],
 "metadata": {
  "kernelspec": {
   "display_name": "Python 3",
   "language": "python",
   "name": "python3"
  },
  "language_info": {
   "codemirror_mode": {
    "name": "ipython",
    "version": 3
   },
   "file_extension": ".py",
   "mimetype": "text/x-python",
   "name": "python",
   "nbconvert_exporter": "python",
   "pygments_lexer": "ipython3",
   "version": "3.5.6"
  }
 },
 "nbformat": 4,
 "nbformat_minor": 2
}
